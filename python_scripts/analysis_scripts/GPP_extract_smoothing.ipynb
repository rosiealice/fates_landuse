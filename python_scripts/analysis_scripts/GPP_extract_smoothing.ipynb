{
 "cells": [
  {
   "cell_type": "code",
   "execution_count": 1,
   "metadata": {},
   "outputs": [],
   "source": [
    "%matplotlib inline\n",
    "import numpy as np\n",
    "import warnings\n",
    "warnings.filterwarnings('ignore')\n",
    "import xarray as xr\n",
    "from matplotlib import pyplot as plt\n",
    "import datetime\n"
   ]
  },
  {
   "cell_type": "code",
   "execution_count": 2,
   "metadata": {},
   "outputs": [],
   "source": [
    "runs = ['clm5-fates_napi5_test_case_3pft', 'clm5-fates_napi5_smoothing_case_3pft']\n",
    "scratch = '/glade/scratch/rfisher/'\n",
    "years=range(2045,2065)"
   ]
  },
  {
   "cell_type": "code",
   "execution_count": 3,
   "metadata": {},
   "outputs": [],
   "source": [
    "drop={'ACTUAL_IMMOB','ATM_TOPO','BCDEP','BTRAN','CBALANCE_ERROR_BGC','CBALANCE_ERROR_ED','CBALANCE_ERROR_TOTAL',\n",
    "      'CWD_STOCK_COL','C_LBLAYER','C_STOMATA','DENIT','DSL','DSTDEP','DSTFLXT','EFLXBUILD','EFLX_DYNBAL',\n",
    "      'EFLX_GRND_LAKE','EFLX_LH_TOT','EFLX_LH_TOT_R','EFLXBUILD','EFLX_DYNBAL','EFLX_GRND_LAKE','EFLX_LH_TOT',\n",
    "      'EFLX_LH_TOT_R','ERRH2O','ERRH2OSNO','ERRSEB','ERRSOI','FCEV','FCOV','FCTR','FFIX_TO_SMINN','FGEV','FGR',\n",
    "      'FGR12','FH2OSFC','FIRA','FIRA_R','FIRE','FSA','FSAT','FSDS','FSDSND','FSDSNDLN','FSDSNI','FSDSVD','FSDSVDLN',\n",
    "      'FSDSVI','FSDSVILN','FSH','FSH_PRECIP_CONVERSION','FSH_G','FSH_R','FSH_RUNOFF_ICE_TO_LIQ','FSH_TO_COUPLER',\n",
    "      'FSH_V','FSM','FSNO','FSNO_EFF','FSR','FSRND','FSRNDLN','FSRNI','FSRVD','FSRVDLN','FSRVI','GROSS_NMIN','H2OCAN',\n",
    "      'H2OSNO_TOP','HEAT_CONTENT1','HEAT_FROM_AC','HIA','HIA_R','HIA_U','HUMIDEX','HUMIDEX_R','HUMIDEX_U',\n",
    "      'ICE_CONTENT1','LAKEICEFRAC_SURF','LAKEICETHICK','LIQUID_CONTENT1','LITR1N','LITR1N_vr','LITR2N','LITR2N_vr',\n",
    "      'LITR3N','LITR3N_vr','NDEP_TO_SMINN','NET_NMIN','O_SCALAR','PARVEGLN','PBOT','PCT_GLC_MEC','POTENTIAL_IMMOB',\n",
    "      'QCHARGE','QDRAI','QDRAI_PERCH','QDRAI_XS','QDRIP','QFLOOD','QFLOOD','QFLX_DEW_GRND','QFLX_DEW_SNOW',\n",
    "      'QFLX_EVAP_TOT','QFLX_ICE_DYNBAL','QFLX_LIQ_DYNBAL','QFLX_SNOW_DRAIN','QFLX_SNOW_DRAIN_ICE','QFLX_SUB_SNOW',\n",
    "      'QH2OSFC','QICE','QICE_FRZ','QICE_MELT','QINFL','QINTR','QIRRIG','QOVER','QRGWL','QRUNOFF','QRUNOFF_ICE',\n",
    "      'QRUNOFF_TO_COUPLER','QSNOCPLIQ','QSNOFRZ','QSNOFRZ_ICE','QSNOMELT','QSNOMELT_ICE','QSNO_TEMPUNLOAD',\n",
    "      'QSNO_WINDUNLOAD','QSNWCPICE', 'QSOIL_ICE','SABG_PEN','SABV','SMINN','SMINN_LEACHED','SMINN_TO_PLANT',\n",
    "      'SNOBCMCL','SNOBCMSL','SNOCAN','SNODSTMCL','SNODSTMSL','SNOFSRND','SNOFSRND','SNOFSRVD','SNOFSRVI',\n",
    "      'SNOINTABS','SNOOCMCL','SNOOCMSL','SNOTXMASS','SNOUNLOAD','SNOW_PERSISTENCE','SNOW_SINKS','SNOW_SOURCES',\n",
    "      'SOIL1N','SOIL1N_vr','SOIL2N','SOIL2N_vr','SOIL3N','SOIL3N_vr','SOILC_HR','SOILICE','SOILLIQ','SOILRESIS',\n",
    "      'SOILWATER_10CM','SOM_C_LEACHED','SUPPLEMENT_TO_SMINN','SWBGT','SWBGT_U','TAUX','TAUY','TKE1','TLAKE',\n",
    "      'TREFMNAV','TREFMXAV','TSOI_ICE','T_SCALAR','U10','U10_DUST','URBAN_AC','URBAN_HEAT','VOLR','VOLRMCH',\n",
    "      'WASTEHEAT','WBT','WBT_R','WBT_U','W_SCALAR','ZBOT','ZWT','ZWT_PERCH'}"
   ]
  },
  {
   "cell_type": "code",
   "execution_count": 4,
   "metadata": {},
   "outputs": [],
   "source": [
    "year = '2040'\n",
    "month = '01'"
   ]
  },
  {
   "cell_type": "code",
   "execution_count": 5,
   "metadata": {},
   "outputs": [
    {
     "name": "stdout",
     "output_type": "stream",
     "text": [
      "2045\n",
      "/glade/scratch/rfisher//archive/clm5-fates_napi5_test_case_3pft/lnd/hist/gppout/gpp_2045.nc\n",
      "2046\n",
      "/glade/scratch/rfisher//archive/clm5-fates_napi5_test_case_3pft/lnd/hist/gppout/gpp_2046.nc\n",
      "2047\n",
      "/glade/scratch/rfisher//archive/clm5-fates_napi5_test_case_3pft/lnd/hist/gppout/gpp_2047.nc\n",
      "2048\n",
      "/glade/scratch/rfisher//archive/clm5-fates_napi5_test_case_3pft/lnd/hist/gppout/gpp_2048.nc\n",
      "2049\n",
      "/glade/scratch/rfisher//archive/clm5-fates_napi5_test_case_3pft/lnd/hist/gppout/gpp_2049.nc\n",
      "2050\n",
      "/glade/scratch/rfisher//archive/clm5-fates_napi5_test_case_3pft/lnd/hist/gppout/gpp_2050.nc\n",
      "2051\n",
      "/glade/scratch/rfisher//archive/clm5-fates_napi5_test_case_3pft/lnd/hist/gppout/gpp_2051.nc\n",
      "2052\n",
      "/glade/scratch/rfisher//archive/clm5-fates_napi5_test_case_3pft/lnd/hist/gppout/gpp_2052.nc\n",
      "2053\n",
      "/glade/scratch/rfisher//archive/clm5-fates_napi5_test_case_3pft/lnd/hist/gppout/gpp_2053.nc\n",
      "2054\n",
      "/glade/scratch/rfisher//archive/clm5-fates_napi5_test_case_3pft/lnd/hist/gppout/gpp_2054.nc\n",
      "2055\n",
      "/glade/scratch/rfisher//archive/clm5-fates_napi5_test_case_3pft/lnd/hist/gppout/gpp_2055.nc\n",
      "2056\n",
      "/glade/scratch/rfisher//archive/clm5-fates_napi5_test_case_3pft/lnd/hist/gppout/gpp_2056.nc\n",
      "2057\n",
      "/glade/scratch/rfisher//archive/clm5-fates_napi5_test_case_3pft/lnd/hist/gppout/gpp_2057.nc\n",
      "2058\n",
      "/glade/scratch/rfisher//archive/clm5-fates_napi5_test_case_3pft/lnd/hist/gppout/gpp_2058.nc\n",
      "2059\n",
      "/glade/scratch/rfisher//archive/clm5-fates_napi5_test_case_3pft/lnd/hist/gppout/gpp_2059.nc\n",
      "2060\n",
      "/glade/scratch/rfisher//archive/clm5-fates_napi5_test_case_3pft/lnd/hist/gppout/gpp_2060.nc\n",
      "2061\n",
      "/glade/scratch/rfisher//archive/clm5-fates_napi5_test_case_3pft/lnd/hist/gppout/gpp_2061.nc\n",
      "2062\n",
      "/glade/scratch/rfisher//archive/clm5-fates_napi5_test_case_3pft/lnd/hist/gppout/gpp_2062.nc\n",
      "2063\n",
      "/glade/scratch/rfisher//archive/clm5-fates_napi5_test_case_3pft/lnd/hist/gppout/gpp_2063.nc\n",
      "2064\n",
      "/glade/scratch/rfisher//archive/clm5-fates_napi5_test_case_3pft/lnd/hist/gppout/gpp_2064.nc\n"
     ]
    }
   ],
   "source": [
    "run = runs[0]\n",
    "outpath = scratch + '/archive/' + run + '/lnd/hist/gppout/' \n",
    "for year in years:\n",
    "    print(str(year))\n",
    "    arc = scratch + '/archive/' + run + '/lnd/hist/' + run + '.clm2.h0.' + str(year) + '-' \n",
    "    no_sm = xr.open_mfdataset(arc + '*.nc', drop_variables=drop, decode_times=False)\n",
    "    gpp=no_sm.GPP\n",
    "    pt=outpath+'gpp_'+str(year)+'.nc'\n",
    "    print(pt)\n",
    "    gpp.to_netcdf(pt)\n",
    "    "
   ]
  },
  {
   "cell_type": "code",
   "execution_count": null,
   "metadata": {},
   "outputs": [
    {
     "name": "stdout",
     "output_type": "stream",
     "text": [
      "2045\n",
      "/glade/scratch/rfisher//archive/clm5-fates_napi5_smoothing_case_3pft/lnd/hist/gppout/gpp_2045.nc\n",
      "2046\n",
      "/glade/scratch/rfisher//archive/clm5-fates_napi5_smoothing_case_3pft/lnd/hist/gppout/gpp_2046.nc\n",
      "2047\n",
      "/glade/scratch/rfisher//archive/clm5-fates_napi5_smoothing_case_3pft/lnd/hist/gppout/gpp_2047.nc\n",
      "2048\n",
      "/glade/scratch/rfisher//archive/clm5-fates_napi5_smoothing_case_3pft/lnd/hist/gppout/gpp_2048.nc\n",
      "2049\n",
      "/glade/scratch/rfisher//archive/clm5-fates_napi5_smoothing_case_3pft/lnd/hist/gppout/gpp_2049.nc\n",
      "2050\n",
      "/glade/scratch/rfisher//archive/clm5-fates_napi5_smoothing_case_3pft/lnd/hist/gppout/gpp_2050.nc\n",
      "2051\n",
      "/glade/scratch/rfisher//archive/clm5-fates_napi5_smoothing_case_3pft/lnd/hist/gppout/gpp_2051.nc\n",
      "2052\n",
      "/glade/scratch/rfisher//archive/clm5-fates_napi5_smoothing_case_3pft/lnd/hist/gppout/gpp_2052.nc\n",
      "2053\n",
      "/glade/scratch/rfisher//archive/clm5-fates_napi5_smoothing_case_3pft/lnd/hist/gppout/gpp_2053.nc\n",
      "2054\n",
      "/glade/scratch/rfisher//archive/clm5-fates_napi5_smoothing_case_3pft/lnd/hist/gppout/gpp_2054.nc\n",
      "2055\n",
      "/glade/scratch/rfisher//archive/clm5-fates_napi5_smoothing_case_3pft/lnd/hist/gppout/gpp_2055.nc\n",
      "2056\n"
     ]
    }
   ],
   "source": [
    "run = runs[1]\n",
    "outpath = scratch + '/archive/' + run + '/lnd/hist/gppout/' \n",
    "for year in years:\n",
    "    print(str(year))\n",
    "    arc = scratch + '/archive/' + run + '/lnd/hist/' + run + '.clm2.h0.' + str(year) + '-' \n",
    "    no_sm = xr.open_mfdataset(arc + '*.nc', drop_variables=drop, decode_times=False)\n",
    "    gpp=no_sm.GPP\n",
    "    pt=outpath+'gpp_'+str(year)+'.nc'\n",
    "    print(pt)\n",
    "    gpp.to_netcdf(pt)\n",
    "    "
   ]
  },
  {
   "cell_type": "code",
   "execution_count": null,
   "metadata": {},
   "outputs": [],
   "source": []
  },
  {
   "cell_type": "code",
   "execution_count": null,
   "metadata": {},
   "outputs": [],
   "source": [
    "\n"
   ]
  },
  {
   "cell_type": "code",
   "execution_count": null,
   "metadata": {},
   "outputs": [],
   "source": []
  }
 ],
 "metadata": {
  "kernelspec": {
   "display_name": "Python [conda env:miniconda3-analysis]",
   "language": "python",
   "name": "conda-env-miniconda3-analysis-py"
  },
  "language_info": {
   "codemirror_mode": {
    "name": "ipython",
    "version": 3
   },
   "file_extension": ".py",
   "mimetype": "text/x-python",
   "name": "python",
   "nbconvert_exporter": "python",
   "pygments_lexer": "ipython3",
   "version": "3.7.3"
  }
 },
 "nbformat": 4,
 "nbformat_minor": 4
}
