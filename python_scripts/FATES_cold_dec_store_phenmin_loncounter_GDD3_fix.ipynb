{
 "cells": [
  {
   "cell_type": "markdown",
   "metadata": {},
   "source": [
    "Here we are looking at \n",
    "1. the run wherein we:\n",
    "\n",
    "i) fixed the carbon store dynamics \n",
    "\n",
    "ii)  have a longer minimum leafon period \n",
    "\n",
    "iii)  zero out of the 'dayssincecleafon' counter at leaf-on \n",
    "\n",
    "iv) Zeroing GDD at leaf flush AND not letting GDD accumulate in the growing season. \n",
    "\n",
    "v) Not letting GDD increase between the leaf off event and the beginning of the counting period. \n",
    "\n",
    "vs\n",
    "2. The same thing, PLUS:\n",
    "\n",
    "vi) Adding the same minimum leaf OFF period (90days) as there is leaf on period.  (GDD3)"
   ]
  },
  {
   "cell_type": "code",
   "execution_count": 1,
   "metadata": {},
   "outputs": [],
   "source": [
    "%matplotlib inline\n",
    "import numpy as np\n",
    "import warnings\n",
    "warnings.filterwarnings('ignore')\n",
    "import xarray as xr\n",
    "from matplotlib import pyplot as plt\n",
    "import datetime\n",
    "import cartopy\n",
    "import cartopy.crs as ccrs"
   ]
  },
  {
   "cell_type": "markdown",
   "metadata": {},
   "source": [
    "Then we choose which simulations to use..."
   ]
  },
  {
   "cell_type": "code",
   "execution_count": 2,
   "metadata": {},
   "outputs": [],
   "source": [
    "runs = ['clm5-fates_ryanfix_CLD_daily', 'clm5-fates_rosiefix_CLD_daily',\\\n",
    "        'clm5-fates_rosiefix_counter_CLD_daily','clm5-fates_rosiefix_phenmin_counter_CLD_daily',\\\n",
    "       'clm5-fates_rosiefix_phenmin_counter_GDD1_CLD_daily','clm5-fates_rosiefix_phenmin_counter_GDD2_CLD_daily',\\\n",
    "        'clm5-fates_rosiefix_phenmin_counter_GDD3_CLD_daily']"
   ]
  },
  {
   "cell_type": "markdown",
   "metadata": {},
   "source": [
    "Then we make an ugly list of variables to ignore (the files being large)\n",
    "\n",
    "(n.b. does anyone know how to make this inclusive rather than exclusive? \n",
    "Reading in >10 years of 4x5 output takes nearly forever)"
   ]
  },
  {
   "cell_type": "code",
   "execution_count": 3,
   "metadata": {},
   "outputs": [],
   "source": [
    "drop={'ACTUAL_IMMOB','ATM_TOPO','BCDEP','BTRAN','CBALANCE_ERROR_BGC','CBALANCE_ERROR_ED','CBALANCE_ERROR_TOTAL',\n",
    "      'CWD_STOCK_COL','C_LBLAYER','C_STOMATA','DENIT','DSL','DSTDEP','DSTFLXT','EFLXBUILD','EFLX_DYNBAL',\n",
    "      'EFLX_GRND_LAKE','EFLX_LH_TOT','EFLX_LH_TOT_R','EFLXBUILD','EFLX_DYNBAL','EFLX_GRND_LAKE','EFLX_LH_TOT',\n",
    "      'EFLX_LH_TOT_R','ERRH2O','ERRH2OSNO','ERRSEB','ERRSOI','FCEV','FCOV','FCTR','FFIX_TO_SMINN','FGEV','FGR',\n",
    "      'FGR12','FH2OSFC','FIRA','FIRA_R','FIRE','FSA','FSAT','FSDS','FSDSND','FSDSNDLN','FSDSNI','FSDSVD','FSDSVDLN',\n",
    "      'FSDSVI','FSDSVILN','FSH','FSH_PRECIP_CONVERSION','FSH_G','FSH_R','FSH_RUNOFF_ICE_TO_LIQ','FSH_TO_COUPLER',\n",
    "      'FSH_V','FSM','FSNO','FSNO_EFF','FSR','FSRND','FSRNDLN','FSRNI','FSRVD','FSRVDLN','FSRVI','GROSS_NMIN','H2OCAN',\n",
    "      'H2OSNO_TOP','HEAT_CONTENT1','HEAT_FROM_AC','HIA','HIA_R','HIA_U','HUMIDEX','HUMIDEX_R','HUMIDEX_U',\n",
    "      'ICE_CONTENT1','LAKEICEFRAC_SURF','LAKEICETHICK','LIQUID_CONTENT1','LITR1N','LITR1N_vr','LITR2N','LITR2N_vr',\n",
    "      'LITR3N','LITR3N_vr','NDEP_TO_SMINN','NET_NMIN','O_SCALAR','PARVEGLN','PBOT','PCT_GLC_MEC','POTENTIAL_IMMOB',\n",
    "      'QCHARGE','QDRAI','QDRAI_PERCH','QDRAI_XS','QDRIP','QFLOOD','QFLOOD','QFLX_DEW_GRND','QFLX_DEW_SNOW',\n",
    "      'QFLX_EVAP_TOT','QFLX_ICE_DYNBAL','QFLX_LIQ_DYNBAL','QFLX_SNOW_DRAIN','QFLX_SNOW_DRAIN_ICE','QFLX_SUB_SNOW',\n",
    "      'QH2OSFC','QICE','QICE_FRZ','QICE_MELT','QINFL','QINTR','QIRRIG','QOVER','QRGWL','QRUNOFF','QRUNOFF_ICE',\n",
    "      'QRUNOFF_TO_COUPLER','QSNOCPLIQ','QSNOFRZ','QSNOFRZ_ICE','QSNOMELT','QSNOMELT_ICE','QSNO_TEMPUNLOAD',\n",
    "      'QSNO_WINDUNLOAD','QSNWCPICE', 'QSOIL_ICE','SABG_PEN','SABV','SMINN','SMINN_LEACHED','SMINN_TO_PLANT',\n",
    "      'SNOBCMCL','SNOBCMSL','SNOCAN','SNODSTMCL','SNODSTMSL','SNOFSRND','SNOFSRND','SNOFSRVD','SNOFSRVI',\n",
    "      'SNOINTABS','SNOOCMCL','SNOOCMSL','SNOTXMASS','SNOUNLOAD','SNOW_PERSISTENCE','SNOW_SINKS','SNOW_SOURCES',\n",
    "      'SOIL1N','SOIL1N_vr','SOIL2N','SOIL2N_vr','SOIL3N','SOIL3N_vr','SOILC_HR','SOILICE','SOILLIQ','SOILRESIS',\n",
    "      'SOILWATER_10CM','SOM_C_LEACHED','SUPPLEMENT_TO_SMINN','SWBGT','SWBGT_U','TAUX','TAUY','TKE1','TLAKE',\n",
    "      'TREFMNAV','TREFMXAV','TSOI_ICE','T_SCALAR','U10','U10_DUST','URBAN_AC','URBAN_HEAT','VOLR','VOLRMCH',\n",
    "      'WASTEHEAT','WBT','WBT_R','WBT_U','W_SCALAR','ZBOT','ZWT','ZWT_PERCH'}"
   ]
  },
  {
   "cell_type": "code",
   "execution_count": null,
   "metadata": {},
   "outputs": [
    {
     "name": "stdout",
     "output_type": "stream",
     "text": [
      "/glade/scratch/rfisher/archive/clm5-fates_rosiefix_phenmin_counter_GDD2_CLD_daily/lnd/hist/\n"
     ]
    }
   ],
   "source": [
    "run = runs[5]\n",
    "scratch = '/glade/scratch/rfisher/'\n",
    "arc = scratch + 'archive/' + run + '/lnd/hist/'\n",
    "#arc = scratch + run + '/run/' \n",
    "print(arc)\n",
    "f1=(arc +run+'.clm2.h0.2001-01-01-00000.nc')\n",
    "f2=(arc +run+'.clm2.h0.2002-01-01-00000.nc')\n",
    "f3=(arc +run+'.clm2.h0.2003-01-01-00000.nc')\n",
    "f4=(arc +run+'.clm2.h0.2004-01-01-00000.nc')\n",
    "ds0 = xr.open_mfdataset([f2, f3, f4], drop_variables=drop, decode_times=False)\n",
    "#ds_2003 = xr.open_mfdataset(arc + '2003*', drop_variables=drop, decode_times=False)\n",
    "arc = scratch + 'archive/' + run + '/lnd/hist/'+ run + '.clm2.h0.' \n",
    "#arc = scratch + '/' + run + '/run/' + run + '.clm2.h0.' \n",
    "#ds0= xr.open_mfdataset(arc + '2002*', drop_variables=drop, decode_times=False)\n"
   ]
  },
  {
   "cell_type": "code",
   "execution_count": null,
   "metadata": {},
   "outputs": [],
   "source": [
    "run = runs[6]\n",
    "scratch = '/glade/scratch/rfisher/'\n",
    "arc = scratch + 'archive/' + run + '/lnd/hist/'\n",
    "#arc = scratch + run + '/run/'\n",
    "f1=(arc +run+'.clm2.h0.2001-01-01-00000.nc')\n",
    "f2=(arc +run+'.clm2.h0.2002-01-01-00000.nc')\n",
    "f3=(arc +run+'.clm2.h0.2003-01-01-00000.nc')\n",
    "f4=(arc +run+'.clm2.h0.2004-01-01-00000.nc')\n",
    "ds1 = xr.open_mfdataset([f2, f3, f4], drop_variables=drop, decode_times=False)\n",
    "arc = scratch + 'archive/' + run + '/lnd/hist/'+ run + '.clm2.h0.' \n",
    "arc = scratch + '/' + run + '/run/' + run + '.clm2.h0.' \n",
    "print(arc)\n",
    "#ds1 = xr.open_mfdataset(arc + '2002*', drop_variables=drop, decode_times=False)\n",
    "#ds_2003 = xr.open_mfdataset(arc + '2003*', drop_variables=drop, decode_times=False)"
   ]
  },
  {
   "cell_type": "code",
   "execution_count": null,
   "metadata": {},
   "outputs": [],
   "source": [
    "#plotting years\n",
    "yr1=1\n",
    "yr2=4"
   ]
  },
  {
   "cell_type": "code",
   "execution_count": null,
   "metadata": {},
   "outputs": [],
   "source": [
    "plt.rcParams['figure.figsize'] = [10, 4]\n",
    "fig,([ax0, ax1]) = plt.subplots(ncols=2, nrows=1)\n",
    "print(ds0.TLAI)\n",
    "t=ds0.TLAI.sizes['time']-160\n",
    "ds0.TLAI[t,:,:].plot(ax=ax0,vmax=9)\n",
    "ds1.TLAI[t,:,:].plot(ax=ax1,vmax=9)\n",
    "plt.tight_layout()"
   ]
  },
  {
   "cell_type": "markdown",
   "metadata": {},
   "source": [
    "First lets look at the GDDs"
   ]
  },
  {
   "cell_type": "code",
   "execution_count": null,
   "metadata": {},
   "outputs": [],
   "source": [
    "plt.rcParams['figure.figsize'] = [9, 7]\n",
    "fig,([ax0, ax1],[ax2, ax3]) = plt.subplots(ncols=2, nrows=2)\n",
    "lats=range(36,37)\n",
    "lons=range(46,60)\n",
    "xmn=365*yr1\n",
    "xmx=365*yr2\n",
    "ymx=200\n",
    "for l in lats:\n",
    "   ds0.SITE_GDD.isel(lat=l,  lon=lons).plot.line(ax=ax0,x='time',add_legend=False, marker='.', xlim=(xmn,xmx), ylim=(0,ymx))\n",
    "   ds1.SITE_GDD.isel(lat=l, lon=lons).plot.line(ax=ax1,x='time',add_legend=False, marker='.', xlim=(xmn,xmx), ylim=(0,ymx))\n",
    "   ds0.PFTleafbiomass.isel(lat=l,  lon=lons, fates_levpft=1).plot.line(ax=ax2,x='time',add_legend=False, xlim=(xmn,xmx), marker='.',ylim=(0,60))\n",
    "   ds1.PFTleafbiomass.isel(lat=l,  lon=lons, fates_levpft=1).plot.line(ax=ax3,x='time',add_legend=False, xlim=(xmn,xmx), marker='.', ylim=(0,60))\n",
    "plt.tight_layout()"
   ]
  },
  {
   "cell_type": "markdown",
   "metadata": {},
   "source": [
    "This shows wh had a big impact on the GDD dynamics, which look quite a lot more sensible, but there is really no impact on the leaf dynamics.  Further, the leaves seem to be coming out when the GDDs are rather small. Here we try and predict the GDD thresholds using the equation here:\n",
    "https://github.com/NGEET/fates/blob/393b905468d93786735a340356d48babc3769988/biogeochem/EDPhysiologyMod.F90#L642\n",
    "which is \n",
    "\n",
    "!  -68 + 638 * (-0.001 * ncd) \n",
    "gdd_threshold = ED_val_phen_a + ED_val_phen_b*exp(ED_val_phen_c*real(currentSite%nchilldays,r8))\n",
    "\n",
    "First double check the parameter values"
   ]
  },
  {
   "cell_type": "code",
   "execution_count": null,
   "metadata": {},
   "outputs": [],
   "source": [
    "pftfile='/glade/u/home/rfisher/python_scripts/fates_cld_phenmin.nc'\n",
    "pfts = xr.open_dataset(pftfile)\n",
    "#print(pfts.fates_phen_a)\n",
    "#print(pfts.fates_phen_b)\n",
    "#print(pfts.fates_phen_c)\n",
    "#print(pfts.fates_phen_chiltemp)\n",
    "#print(pfts.fates_phen_mindayson)"
   ]
  },
  {
   "cell_type": "code",
   "execution_count": null,
   "metadata": {},
   "outputs": [],
   "source": [
    "plt.rcParams['figure.figsize'] = [9, 7]\n",
    "fig,([ax0, ax1],[ax2, ax3]) = plt.subplots(ncols=2, nrows=2)\n",
    "lats=range(36,37)\n",
    "lons=range(46,55)\n",
    "xmn=365*yr1\n",
    "xmx=365*yr2\n",
    "ymx=900\n",
    "a=-0.001 * ds0.SITE_NCHILLDAYS\n",
    "b=-0.001 * ds1.SITE_NCHILLDAYS\n",
    "gdd_th0=-68 + 638*np.exp(a)\n",
    "gdd_th1=-68 + 638*np.exp(b)\n",
    "for l in lats:\n",
    "   ds0.SITE_NCHILLDAYS.isel(lat=l,  lon=lons).plot.line(ax=ax0,x='time',add_legend=False, marker='.', xlim=(xmn,xmx))\n",
    "   ds1.SITE_NCHILLDAYS.isel(lat=l,  lon=lons).plot.line(ax=ax1,x='time',add_legend=False, marker='.', xlim=(xmn,xmx))\n",
    "   gdd_th0.isel(lat=l,  lon=lons).plot.line(ax=ax2,x='time',add_legend=False, marker='.', xlim=(xmn,xmx))\n",
    "   gdd_th1.isel(lat=l, lon=lons).plot.line(ax=ax3,x='time',add_legend=False, marker='.', xlim=(xmn,xmx)) \n",
    "plt.tight_layout()"
   ]
  },
  {
   "cell_type": "markdown",
   "metadata": {},
   "source": [
    "This (bottom panels, above) is what I think the GDD thresholds should be, but the leaves are coming on irrespective of the fact that the GDDs never seem to get anywhere near those thresholds.\n",
    "\n",
    "Something odd is going on here, so we are going to put in a write statement to look at the GDDs\n"
   ]
  },
  {
   "cell_type": "markdown",
   "metadata": {},
   "source": [
    "Lets plot some LAI from South America. These are pretty bonkers. "
   ]
  },
  {
   "cell_type": "code",
   "execution_count": null,
   "metadata": {},
   "outputs": [],
   "source": [
    "plt.rcParams['figure.figsize'] = [10, 4]\n",
    "fig,([ax0, ax1]) = plt.subplots(ncols=2, nrows=1)\n",
    "lats=range(8,12)\n",
    "lons=range(57,62)\n",
    "xmn=365*yr1\n",
    "xmx=365*yr2\n",
    "ymx=6\n",
    "for l in lats:\n",
    "   ds0.TLAI.isel(lat=l,  lon=lons).plot.line(ax=ax0,x='time',add_legend=False, xlim=(xmn,xmx), marker='.', ylim=(0,ymx))\n",
    "   ds1.TLAI.isel(lat=l,  lon=lons).plot.line(ax=ax1,x='time',add_legend=False, xlim=(xmn,xmx), marker='.', ylim=(0,ymx))\n",
    "plt.tight_layout()\n"
   ]
  },
  {
   "cell_type": "markdown",
   "metadata": {},
   "source": [
    "Here are the GDD and leafc dynamics for S. America"
   ]
  },
  {
   "cell_type": "code",
   "execution_count": null,
   "metadata": {},
   "outputs": [],
   "source": [
    "plt.rcParams['figure.figsize'] = [12, 7]\n",
    "fig,([ax0, ax1],[ax2, ax3]) = plt.subplots(ncols=2, nrows=2)\n",
    "lats=range(8,12)\n",
    "lons=range(57,62)\n",
    "xmn=365*yr1\n",
    "xmx=365*yr2\n",
    "ymx=900\n",
    "for l in lats:\n",
    "   ds0.SITE_GDD.isel(lat=l,  lon=lons).plot.line(ax=ax0,x='time',add_legend=False, marker='.', xlim=(xmn,xmx),ylim=(0,600))\n",
    "   ds1.SITE_GDD.isel(lat=l, lon=lons).plot.line(ax=ax1,x='time',add_legend=False, marker='.', xlim=(xmn,xmx),ylim=(0,600))\n",
    "   ds0.PFTleafbiomass.isel(lat=l,  lon=lons, fates_levpft=1).plot.line(ax=ax2,x='time',add_legend=False, xlim=(xmn,xmx), marker='.',ylim=(0,60))\n",
    "   ds1.PFTleafbiomass.isel(lat=l,  lon=lons, fates_levpft=1).plot.line(ax=ax3,x='time',add_legend=False, xlim=(xmn,xmx), marker='.', ylim=(0,60))\n",
    "plt.tight_layout()"
   ]
  },
  {
   "cell_type": "code",
   "execution_count": null,
   "metadata": {},
   "outputs": [],
   "source": [
    "plt.rcParams['figure.figsize'] = [12, 7]\n",
    "fig,([ax0, ax1],[ax2, ax3]) = plt.subplots(ncols=2, nrows=2)\n",
    "lats=range(36,37)\n",
    "lons=range(46,60)\n",
    "xmn=365*yr1\n",
    "xmx=365*yr2\n",
    "ymx=900\n",
    "for l in lats:\n",
    "   ds0.SITE_GDD.isel(lat=l,  lon=lons).plot.line(ax=ax0,x='time',add_legend=False, marker='.', xlim=(xmn,xmx),ylim=(0,600))\n",
    "   ds1.SITE_GDD.isel(lat=l, lon=lons).plot.line(ax=ax1,x='time',add_legend=False, marker='.', xlim=(xmn,xmx),ylim=(0,600))\n",
    "   ds0.PFTleafbiomass.isel(lat=l,  lon=lons, fates_levpft=1).plot.line(ax=ax2,x='time',add_legend=False, xlim=(xmn,xmx), marker='.',ylim=(0,60))\n",
    "   ds1.PFTleafbiomass.isel(lat=l,  lon=lons, fates_levpft=1).plot.line(ax=ax3,x='time',add_legend=False, xlim=(xmn,xmx), marker='.', ylim=(0,60))\n",
    "plt.tight_layout()"
   ]
  },
  {
   "cell_type": "markdown",
   "metadata": {},
   "source": [
    "Illustrate carbon dynamics for NE US. For several places, there are examples of leafes coming off, and then going straight back on again...  "
   ]
  },
  {
   "cell_type": "code",
   "execution_count": null,
   "metadata": {},
   "outputs": [],
   "source": [
    "plt.rcParams['figure.figsize'] = [10, 4]\n",
    "fig,([ax0, ax1]) = plt.subplots(ncols=2, nrows=1)\n",
    "lats=range(36,37)\n",
    "lons=range(46,60)\n",
    "xmn=365*yr1\n",
    "xmx=365*yr2\n",
    "for l in lats:\n",
    "   ds0.TV.isel(lat=l,  lon=lons).plot.line(ax=ax0,x='time',add_legend=False, xlim=(xmn,xmx), marker='.', ylim=(260,280))\n",
    "   ds1.TV.isel(lat=l,  lon=lons).plot.line(ax=ax1,x='time',add_legend=False, xlim=(xmn,xmx), marker='.', ylim=(260,280))\n",
    "plt.tight_layout()\n"
   ]
  },
  {
   "cell_type": "markdown",
   "metadata": {},
   "source": [
    "If we look at the leafoff counter, however, things look at lot more sensible, so I am tempted to keep this change, and search for a different cause for the re-leafing issue."
   ]
  },
  {
   "cell_type": "code",
   "execution_count": null,
   "metadata": {},
   "outputs": [],
   "source": [
    "plt.rcParams['figure.figsize'] = [13, 8]\n",
    "fig,([ax0, ax1],[ax2, ax3]) = plt.subplots(ncols=2, nrows=2)\n",
    "lats=range(36,37)\n",
    "lons=range(46,60)\n",
    "xmn=365*yr1\n",
    "xmx=365*yr2\n",
    "ymx=400\n",
    "for l in lats:\n",
    "   ds0.SITE_DAYSINCE_COLDLEAFON.isel(lat=l,  lon=lons).plot.line(ax=ax0,x='time',add_legend=False, xlim=(xmn,xmx), ylim=(0,ymx))\n",
    "   ds1.SITE_DAYSINCE_COLDLEAFON.isel(lat=l, lon=lons).plot.line(ax=ax1,x='time',add_legend=False, xlim=(xmn,xmx), ylim=(0,ymx))\n",
    "   ds0.SITE_DAYSINCE_COLDLEAFOFF.isel(lat=l,  lon=lons).plot.line(ax=ax2,x='time',add_legend=False, xlim=(xmn,xmx), ylim=(0,ymx))\n",
    "   ds1.SITE_DAYSINCE_COLDLEAFOFF.isel(lat=l, lon=lons).plot.line(ax=ax3,x='time',add_legend=False, xlim=(xmn,xmx), ylim=(0,ymx))\n"
   ]
  },
  {
   "cell_type": "markdown",
   "metadata": {},
   "source": [
    "Plot out the maximum attained GDD"
   ]
  },
  {
   "cell_type": "code",
   "execution_count": null,
   "metadata": {},
   "outputs": [],
   "source": [
    "np.max(ds1.SITE_GDD,0).plot(vmax=600)"
   ]
  },
  {
   "cell_type": "markdown",
   "metadata": {},
   "source": [
    "and the maximum chill days"
   ]
  },
  {
   "cell_type": "code",
   "execution_count": null,
   "metadata": {},
   "outputs": [],
   "source": [
    "np.max(ds1.SITE_NCHILLDAYS,0).plot()"
   ]
  },
  {
   "cell_type": "code",
   "execution_count": null,
   "metadata": {},
   "outputs": [],
   "source": [
    "plt.scatter(np.max(ds1.SITE_NCHILLDAYS,0),np.max(ds1.SITE_GDD,0))\n",
    "plt.ylim(0,600)\n",
    "plt.ylim(0,350)\n",
    "plt.title('Smoothing effect vs LAI')"
   ]
  },
  {
   "cell_type": "code",
   "execution_count": null,
   "metadata": {},
   "outputs": [],
   "source": [
    "xmn=365*yr1\n",
    "xmx=365*yr2\n",
    "ymx=900\n",
    "a=-0.001 * ds0.SITE_NCHILLDAYS\n",
    "b=-0.001 * ds1.SITE_NCHILLDAYS\n",
    "gdd_th0=-68 + 638*np.exp(a)\n",
    "gdd_th1=-68 + 638*np.exp(b)\n",
    "\n",
    "plt.scatter(ds1.SITE_NCHILLDAYS,gdd_th1)\n",
    "plt.title('Smoothing effect vs LAI')\n"
   ]
  },
  {
   "cell_type": "code",
   "execution_count": null,
   "metadata": {},
   "outputs": [],
   "source": [
    "print(ds1.SITE_NCHILLDAY)"
   ]
  },
  {
   "cell_type": "code",
   "execution_count": null,
   "metadata": {},
   "outputs": [],
   "source": [
    "plt.rcParams['figure.figsize'] = [10, 4]\n",
    "fig,([ax0, ax1]) = plt.subplots(ncols=2, nrows=1)\n",
    "print(ds0.TLAI)\n",
    "t=ds0.TLAI.sizes['time']-160\n",
    "ds0.TLAI[t,:,:].plot(ax=ax0,vmax=7)\n",
    "ds1.TLAI[t,:,:].plot(ax=ax1,vmax=7)\n",
    "plt.tight_layout()"
   ]
  }
 ],
 "metadata": {
  "kernelspec": {
   "display_name": "Python [conda env:miniconda3-analysis]",
   "language": "python",
   "name": "conda-env-miniconda3-analysis-py"
  },
  "language_info": {
   "codemirror_mode": {
    "name": "ipython",
    "version": 3
   },
   "file_extension": ".py",
   "mimetype": "text/x-python",
   "name": "python",
   "nbconvert_exporter": "python",
   "pygments_lexer": "ipython3",
   "version": "3.7.3"
  }
 },
 "nbformat": 4,
 "nbformat_minor": 4
}
